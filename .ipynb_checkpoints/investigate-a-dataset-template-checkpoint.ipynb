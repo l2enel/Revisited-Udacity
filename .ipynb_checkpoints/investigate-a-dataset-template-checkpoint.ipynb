{
 "cells": [
  {
   "cell_type": "markdown",
   "metadata": {},
   "source": [
    "# Project: Investigating the IMDB Dataset (Genres)\n",
    "\n",
    "## Table of Contents\n",
    "<ul>\n",
    "<li><a href=\"#intro\">Introduction</a></li>\n",
    "<li><a href=\"#wrangling\">Data Wrangling</a></li>\n",
    "<li><a href=\"#eda\">Exploratory Data Analysis</a></li>\n",
    "<li><a href=\"#conclusions\">Conclusions</a></li>\n",
    "</ul>"
   ]
  },
  {
   "cell_type": "markdown",
   "metadata": {},
   "source": [
    "<a id='intro'></a>\n",
    "## Introduction\n",
    "\n",
    "In this report we will be examining the movies have the highest budget, highest popularity, and highest revenue based on the single independent variable genre."
   ]
  },
  {
   "cell_type": "markdown",
   "metadata": {},
   "source": [
    "### Importing packages and loading dataframe"
   ]
  },
  {
   "cell_type": "code",
   "execution_count": null,
   "metadata": {},
   "outputs": [],
   "source": [
    "import numpy as np\n",
    "import pandas as pd\n",
    "import matplotlib.pyplot as plt\n",
    "\n",
    "%matplotlib inline\n",
    "plt.rcParams['figure.figsize'] = (12, 8)\n",
    "\n",
    "df = pd.read_csv('tmdb-movies.csv')"
   ]
  },
  {
   "cell_type": "markdown",
   "metadata": {},
   "source": [
    "<a id='wrangling'></a>\n",
    "## Data Wrangling\n",
    "\n",
    "### General Properties"
   ]
  },
  {
   "cell_type": "code",
   "execution_count": null,
   "metadata": {},
   "outputs": [],
   "source": [
    "df.shape"
   ]
  },
  {
   "cell_type": "code",
   "execution_count": null,
   "metadata": {},
   "outputs": [],
   "source": [
    "df.sample(1)"
   ]
  },
  {
   "cell_type": "code",
   "execution_count": null,
   "metadata": {},
   "outputs": [],
   "source": [
    "df.info()"
   ]
  },
  {
   "cell_type": "markdown",
   "metadata": {},
   "source": [
    "### Data Cleaning "
   ]
  },
  {
   "cell_type": "markdown",
   "metadata": {},
   "source": [
    "Removing unecessary columns"
   ]
  },
  {
   "cell_type": "code",
   "execution_count": null,
   "metadata": {},
   "outputs": [],
   "source": [
    "df.drop(['imdb_id', 'cast', 'homepage', 'director', 'tagline', 'keywords', 'overview', 'runtime',\n",
    "        'production_companies', 'release_date', 'vote_count', 'vote_average', 'release_year',\n",
    "        'budget_adj', 'revenue_adj'], axis=1, inplace=True)"
   ]
  },
  {
   "cell_type": "markdown",
   "metadata": {},
   "source": [
    "Removing movies with missing budget and revenue values"
   ]
  },
  {
   "cell_type": "code",
   "execution_count": null,
   "metadata": {},
   "outputs": [],
   "source": [
    "df = df.replace(0, np.nan)\n",
    "df = df.dropna(how='any', axis=0)"
   ]
  },
  {
   "cell_type": "markdown",
   "metadata": {},
   "source": [
    "Changing budget and revenue columns for more readability"
   ]
  },
  {
   "cell_type": "code",
   "execution_count": null,
   "metadata": {},
   "outputs": [],
   "source": [
    "df['revenue'] = (df['revenue']/1000)\n",
    "df['budget'] = (df['budget']/1000)\n",
    "df.rename(index=str, columns={'revenue':'revenue_(thousands)','budget':'budget_(thousands)'})"
   ]
  },
  {
   "cell_type": "markdown",
   "metadata": {},
   "source": [
    "Function to separate movies into the main genres; action, comedy, romance, drama, thriller, horror"
   ]
  },
  {
   "cell_type": "code",
   "execution_count": null,
   "metadata": {},
   "outputs": [],
   "source": [
    "# seperate sub dfs were created to contain movies of the same genre.\n",
    "# movies with multiple genres get appeneded to multiple dataframes\n",
    "\n",
    "columns = ['id', 'popularity', 'budget', 'revenue', 'original_title', 'genres']\n",
    "\n",
    "action_df = pd.DataFrame(columns=columns)\n",
    "comedy_df = pd.DataFrame(columns=columns)\n",
    "romance_df = pd.DataFrame(columns=columns)\n",
    "drama_df = pd.DataFrame(columns=columns)\n",
    "thriller_df = pd.DataFrame(columns=columns)\n",
    "horror_df = pd.DataFrame(columns=columns)\n",
    "\n",
    "for index, row in df.iterrows():\n",
    "    genres = row['genres']\n",
    "    if 'Action' in genres:\n",
    "        action_df = action_df.append(row)\n",
    "    elif 'Comedy' in genres:\n",
    "        comedy_df = comedy_df.append(row)\n",
    "    elif 'Romance' in genres:\n",
    "        romance_df = romance_df.append(row)\n",
    "    elif 'Drama' in genres:\n",
    "        drama_df = drama_df.append(row)\n",
    "    elif 'Thriller' in genres:\n",
    "        thriller_df = thriller_df.append(row)\n",
    "    elif 'Horror' in genres:\n",
    "        horror_df = horror_df.append(row)"
   ]
  },
  {
   "cell_type": "markdown",
   "metadata": {},
   "source": [
    "<a id='eda'></a>\n",
    "## Exploratory Data Analysis\n",
    "\n",
    "### Research Question 1 (How many occurances are there for each movie genre?)"
   ]
  },
  {
   "cell_type": "code",
   "execution_count": null,
   "metadata": {},
   "outputs": [],
   "source": [
    "num_action_movies = action_df.shape[0]\n",
    "num_comedy_movies = comedy_df.shape[0]\n",
    "num_romance_movies = romance_df.shape[0]\n",
    "num_drama_movies = drama_df.shape[0]\n",
    "num_thriller_movies = thriller_df.shape[0]\n",
    "num_horror_movies = horror_df.shape[0]\n",
    "\n",
    "movie_counts = [num_action_movies, num_comedy_movies, num_romance_movies, num_drama_movies,\n",
    "               num_thriller_movies, num_horror_movies]\n",
    "\n",
    "locations = [1, 2, 3, 4, 5, 6]\n",
    "heights = movie_counts\n",
    "labels = ['action', 'comedy', 'romance', 'drama', 'thriller', 'horror']\n",
    "plt.bar(locations, heights, tick_label=labels)\n",
    "plt.title('Counts for Each Movie Genre')\n",
    "plt.xlabel('Movie Genre')\n",
    "plt.ylabel('Movie Count')"
   ]
  },
  {
   "cell_type": "markdown",
   "metadata": {},
   "source": [
    "### Research Question 2 (What are the distributions of the values; popularty, budget, and revenue?)"
   ]
  },
  {
   "cell_type": "code",
   "execution_count": null,
   "metadata": {},
   "outputs": [],
   "source": [
    "df2 = df.query('popularity < 10')\n",
    "plt.hist(df2['popularity'], bins=1000)\n",
    "plt.ylabel('Count')\n",
    "plt.xlabel('Popularity')\n",
    "plt.title('Distribution of Popularity')"
   ]
  },
  {
   "cell_type": "code",
   "execution_count": null,
   "metadata": {},
   "outputs": [],
   "source": [
    "df3 = df.query('budget < 300000')\n",
    "plt.hist(df3['budget'], bins=100)\n",
    "plt.ylabel('Count')\n",
    "plt.xlabel('Budget K')\n",
    "plt.title('Distribution of Budget')"
   ]
  },
  {
   "cell_type": "code",
   "execution_count": null,
   "metadata": {},
   "outputs": [],
   "source": [
    "df4 = df.query('revenue < 1000000')\n",
    "plt.hist(df4['revenue'], bins=100)\n",
    "plt.ylabel('Count')\n",
    "plt.xlabel('Revenue K')\n",
    "plt.title('Distribution of Revenue')"
   ]
  },
  {
   "cell_type": "markdown",
   "metadata": {},
   "source": [
    "### Research Question 2  (How do different genres correlate to popularity, budget, and revenue?)"
   ]
  },
  {
   "cell_type": "code",
   "execution_count": null,
   "metadata": {},
   "outputs": [],
   "source": [
    "action_mean = action_df['popularity'].mean()\n",
    "comedy_mean = comedy_df['popularity'].mean()\n",
    "romance_mean = romance_df['popularity'].mean()\n",
    "drama_mean = drama_df['popularity'].mean()\n",
    "thriller_mean = thriller_df['popularity'].mean()\n",
    "horror_mean = horror_df['popularity'].mean()\n",
    "\n",
    "movie_means = [action_mean, comedy_mean, romance_mean, drama_mean, thriller_mean, horror_mean]\n",
    "\n",
    "locations = [1, 2, 3, 4, 5, 6]\n",
    "heights = movie_means\n",
    "labels = ['action', 'comedy', 'romance', 'drama', 'thriller', 'horror']\n",
    "plt.bar(locations, heights, tick_label=labels)\n",
    "plt.title('Mean Popularity for Each Movie Genre')\n",
    "plt.xlabel('Movie Genre')\n",
    "plt.ylabel('Average Movie Popularity')"
   ]
  },
  {
   "cell_type": "code",
   "execution_count": null,
   "metadata": {},
   "outputs": [],
   "source": [
    "action_mean = action_df['budget'].mean()\n",
    "comedy_mean = comedy_df['budget'].mean()\n",
    "romance_mean = romance_df['budget'].mean()\n",
    "drama_mean = drama_df['budget'].mean()\n",
    "thriller_mean = thriller_df['budget'].mean()\n",
    "horror_mean = horror_df['budget'].mean()\n",
    "\n",
    "movie_means = [action_mean, comedy_mean, romance_mean, drama_mean, thriller_mean, horror_mean]\n",
    "\n",
    "locations = [1, 2, 3, 4, 5, 6]\n",
    "heights = movie_means\n",
    "labels = ['action', 'comedy', 'romance', 'drama', 'thriller', 'horror']\n",
    "plt.bar(locations, heights, tick_label=labels)\n",
    "plt.title('Mean Budget for Each Movie Genre')\n",
    "plt.xlabel('Movie Genre')\n",
    "plt.ylabel('Average Movie Budget (thousands)')"
   ]
  },
  {
   "cell_type": "code",
   "execution_count": null,
   "metadata": {},
   "outputs": [],
   "source": [
    "action_mean = action_df['revenue'].mean()\n",
    "comedy_mean = comedy_df['revenue'].mean()\n",
    "romance_mean = romance_df['revenue'].mean()\n",
    "drama_mean = drama_df['revenue'].mean()\n",
    "thriller_mean = thriller_df['revenue'].mean()\n",
    "horror_mean = horror_df['revenue'].mean()\n",
    "\n",
    "movie_means = [action_mean, comedy_mean, romance_mean, drama_mean, thriller_mean, horror_mean]\n",
    "\n",
    "locations = [1, 2, 3, 4, 5, 6]\n",
    "heights = movie_means\n",
    "labels = ['action', 'comedy', 'romance', 'drama', 'thriller', 'horror']\n",
    "plt.bar(locations, heights, tick_label=labels)\n",
    "plt.title('Mean Revenue for Each Movie Genre')\n",
    "plt.xlabel('Movie Genre')\n",
    "plt.ylabel('Average Movie Revenue (thouands)')"
   ]
  },
  {
   "cell_type": "markdown",
   "metadata": {},
   "source": [
    "<a id='conclusions'></a>\n",
    "## Conclusions\n",
    "\n",
    "Before the data was analyzed, it was wrangled in order to produce more reliable data.  Movies with a budget of zero and/or revenue of zero were removed before the analysis as it was assumed that values of zero represented missing data.  The data was also divided into six main categories; action, comedy, romance, drama, thriller, and horror.  Other genres were removed due to the fact that they were insignificantly represented compared to the other genres.\n",
    "\n",
    "As a result of the analysis, it has been found that action movies can be generally regarded as the movies with the highest budgets, revenues, and popularity ratings.  In contrast, horror movies have been found to be movies with the lowest budgets, revenues, and popularity ratings.  One weakness in this study was that movies with multiple genres were included in the analysis.  This could have smoothed out the visualizations of the data and prevented more accurate contrasts between the grenres from being seen.  Another weakness in this study was that the movies included in this analysis were originated over the span of several decades, from the beginning of the 20th century to present day.  Therefore budget and revenue data may be misleading as it does not take inflation into account in order to accurately compare the budgets and revenues of each movie."
   ]
  },
  {
   "cell_type": "code",
   "execution_count": null,
   "metadata": {
    "collapsed": true
   },
   "outputs": [],
   "source": []
  }
 ],
 "metadata": {
  "kernelspec": {
   "display_name": "Python [default]",
   "language": "python",
   "name": "python3"
  },
  "language_info": {
   "codemirror_mode": {
    "name": "ipython",
    "version": 3
   },
   "file_extension": ".py",
   "mimetype": "text/x-python",
   "name": "python",
   "nbconvert_exporter": "python",
   "pygments_lexer": "ipython3",
   "version": "3.6.4"
  }
 },
 "nbformat": 4,
 "nbformat_minor": 2
}
